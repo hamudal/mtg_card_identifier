{
 "cells": [
  {
   "cell_type": "markdown",
   "id": "90e7750b",
   "metadata": {},
   "source": [
    "MTG Card Identifier  "
   ]
  },
  {
   "cell_type": "markdown",
   "id": "586bd958",
   "metadata": {},
   "source": []
  },
  {
   "cell_type": "code",
   "execution_count": 1,
   "id": "493c0f0d",
   "metadata": {},
   "outputs": [
    {
     "name": "stdout",
     "output_type": "stream",
     "text": [
      "Python: 3.13.3\n",
      "requests: 2.32.3\n",
      "pandas: 2.3.0\n"
     ]
    }
   ],
   "source": [
    "import requests\n",
    "import pandas as pd\n",
    "import sys\n",
    "\n",
    "print(\"Python:\", sys.version.split()[0])\n",
    "print(\"requests:\", requests.__version__)\n",
    "print(\"pandas:\", pd.__version__)\n"
   ]
  },
  {
   "cell_type": "code",
   "execution_count": 2,
   "id": "26c1c465",
   "metadata": {},
   "outputs": [],
   "source": [
    "def fetch_card_data(card_name: str) -> dict:\n",
    "    \"\"\"\n",
    "    Fetch card data from Scryfall API by exact name.\n",
    "    Returns a dict with Name, Set, Rarity, Oracle Text, Image URL, Price USD.\n",
    "    \"\"\"\n",
    "    url = f\"https://api.scryfall.com/cards/named?exact={card_name}\"\n",
    "    resp = requests.get(url)\n",
    "    resp.raise_for_status()\n",
    "    data = resp.json()\n",
    "    return {\n",
    "        \"Name\": data.get(\"name\"),\n",
    "        \"Set\": data.get(\"set_name\"),\n",
    "        \"Rarity\": data.get(\"rarity\"),\n",
    "        \"Oracle Text\": data.get(\"oracle_text\"),\n",
    "        \"Image URL\": data.get(\"image_uris\", {}).get(\"normal\"),\n",
    "        \"Price USD\": data.get(\"prices\", {}).get(\"usd\")\n",
    "    }\n"
   ]
  },
  {
   "cell_type": "code",
   "execution_count": 6,
   "id": "6086ef96",
   "metadata": {},
   "outputs": [
    {
     "data": {
      "application/vnd.microsoft.datawrangler.viewer.v0+json": {
       "columns": [
        {
         "name": "index",
         "rawType": "int64",
         "type": "integer"
        },
        {
         "name": "Name",
         "rawType": "object",
         "type": "string"
        },
        {
         "name": "Set",
         "rawType": "object",
         "type": "string"
        },
        {
         "name": "Rarity",
         "rawType": "object",
         "type": "string"
        },
        {
         "name": "Oracle Text",
         "rawType": "object",
         "type": "string"
        },
        {
         "name": "Image URL",
         "rawType": "object",
         "type": "string"
        },
        {
         "name": "Price USD",
         "rawType": "object",
         "type": "string"
        }
       ],
       "ref": "6ff0ffe0-9132-4e50-9f21-e931471a0c81",
       "rows": [
        [
         "0",
         "Lightning Bolt",
         "Ravnica: Clue Edition",
         "uncommon",
         "Lightning Bolt deals 3 damage to any target.",
         "https://cards.scryfall.io/normal/front/7/7/77c6fa74-5543-42ac-9ead-0e890b188e99.jpg?1706239968",
         "0.86"
        ]
       ],
       "shape": {
        "columns": 6,
        "rows": 1
       }
      },
      "text/html": [
       "<div>\n",
       "<style scoped>\n",
       "    .dataframe tbody tr th:only-of-type {\n",
       "        vertical-align: middle;\n",
       "    }\n",
       "\n",
       "    .dataframe tbody tr th {\n",
       "        vertical-align: top;\n",
       "    }\n",
       "\n",
       "    .dataframe thead th {\n",
       "        text-align: right;\n",
       "    }\n",
       "</style>\n",
       "<table border=\"1\" class=\"dataframe\">\n",
       "  <thead>\n",
       "    <tr style=\"text-align: right;\">\n",
       "      <th></th>\n",
       "      <th>Name</th>\n",
       "      <th>Set</th>\n",
       "      <th>Rarity</th>\n",
       "      <th>Oracle Text</th>\n",
       "      <th>Image URL</th>\n",
       "      <th>Price USD</th>\n",
       "    </tr>\n",
       "  </thead>\n",
       "  <tbody>\n",
       "    <tr>\n",
       "      <th>0</th>\n",
       "      <td>Lightning Bolt</td>\n",
       "      <td>Ravnica: Clue Edition</td>\n",
       "      <td>uncommon</td>\n",
       "      <td>Lightning Bolt deals 3 damage to any target.</td>\n",
       "      <td>https://cards.scryfall.io/normal/front/7/7/77c...</td>\n",
       "      <td>0.86</td>\n",
       "    </tr>\n",
       "  </tbody>\n",
       "</table>\n",
       "</div>"
      ],
      "text/plain": [
       "             Name                    Set    Rarity  \\\n",
       "0  Lightning Bolt  Ravnica: Clue Edition  uncommon   \n",
       "\n",
       "                                    Oracle Text  \\\n",
       "0  Lightning Bolt deals 3 damage to any target.   \n",
       "\n",
       "                                           Image URL Price USD  \n",
       "0  https://cards.scryfall.io/normal/front/7/7/77c...      0.86  "
      ]
     },
     "metadata": {},
     "output_type": "display_data"
    }
   ],
   "source": [
    "sample = [\"Lightning Bolt\"]\n",
    "card_info = fetch_card_data(sample)\n",
    "df = pd.DataFrame([card_info])\n",
    "display(df)\n"
   ]
  },
  {
   "cell_type": "code",
   "execution_count": null,
   "id": "b2beff87",
   "metadata": {},
   "outputs": [],
   "source": []
  }
 ],
 "metadata": {
  "kernelspec": {
   "display_name": "magic",
   "language": "python",
   "name": "python3"
  },
  "language_info": {
   "codemirror_mode": {
    "name": "ipython",
    "version": 3
   },
   "file_extension": ".py",
   "mimetype": "text/x-python",
   "name": "python",
   "nbconvert_exporter": "python",
   "pygments_lexer": "ipython3",
   "version": "3.13.3"
  }
 },
 "nbformat": 4,
 "nbformat_minor": 5
}
