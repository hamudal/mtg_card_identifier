{
 "cells": [
  {
   "cell_type": "markdown",
   "id": "90e7750b",
   "metadata": {},
   "source": [
    "MTG Card Identifier  "
   ]
  },
  {
   "cell_type": "code",
   "execution_count": 25,
   "id": "c6775a2a",
   "metadata": {},
   "outputs": [
    {
     "name": "stdout",
     "output_type": "stream",
     "text": [
      "Aktueller USD→EUR-Kurs: 0.8763\n"
     ]
    },
    {
     "data": {
      "application/vnd.microsoft.datawrangler.viewer.v0+json": {
       "columns": [
        {
         "name": "index",
         "rawType": "int64",
         "type": "integer"
        },
        {
         "name": "Name",
         "rawType": "object",
         "type": "string"
        },
        {
         "name": "Set",
         "rawType": "object",
         "type": "string"
        },
        {
         "name": "Rarity",
         "rawType": "object",
         "type": "string"
        },
        {
         "name": "Oracle Text",
         "rawType": "object",
         "type": "string"
        },
        {
         "name": "Image URL",
         "rawType": "object",
         "type": "string"
        },
        {
         "name": "Price USD",
         "rawType": "object",
         "type": "string"
        },
        {
         "name": "Price EUR",
         "rawType": "float64",
         "type": "float"
        }
       ],
       "ref": "e9020529-368b-4085-be99-c56fa71e809b",
       "rows": [
        [
         "0",
         "Lightning Bolt",
         "Ravnica: Clue Edition",
         "uncommon",
         "Lightning Bolt deals 3 damage to any target.",
         "https://cards.scryfall.io/normal/front/7/7/77c6fa74-5543-42ac-9ead-0e890b188e99.jpg?1706239968",
         "0.86",
         "0.75"
        ]
       ],
       "shape": {
        "columns": 7,
        "rows": 1
       }
      },
      "text/html": [
       "<div>\n",
       "<style scoped>\n",
       "    .dataframe tbody tr th:only-of-type {\n",
       "        vertical-align: middle;\n",
       "    }\n",
       "\n",
       "    .dataframe tbody tr th {\n",
       "        vertical-align: top;\n",
       "    }\n",
       "\n",
       "    .dataframe thead th {\n",
       "        text-align: right;\n",
       "    }\n",
       "</style>\n",
       "<table border=\"1\" class=\"dataframe\">\n",
       "  <thead>\n",
       "    <tr style=\"text-align: right;\">\n",
       "      <th></th>\n",
       "      <th>Name</th>\n",
       "      <th>Set</th>\n",
       "      <th>Rarity</th>\n",
       "      <th>Oracle Text</th>\n",
       "      <th>Image URL</th>\n",
       "      <th>Price USD</th>\n",
       "      <th>Price EUR</th>\n",
       "    </tr>\n",
       "  </thead>\n",
       "  <tbody>\n",
       "    <tr>\n",
       "      <th>0</th>\n",
       "      <td>Lightning Bolt</td>\n",
       "      <td>Ravnica: Clue Edition</td>\n",
       "      <td>uncommon</td>\n",
       "      <td>Lightning Bolt deals 3 damage to any target.</td>\n",
       "      <td>https://cards.scryfall.io/normal/front/7/7/77c...</td>\n",
       "      <td>0.86</td>\n",
       "      <td>0.75</td>\n",
       "    </tr>\n",
       "  </tbody>\n",
       "</table>\n",
       "</div>"
      ],
      "text/plain": [
       "             Name                    Set    Rarity  \\\n",
       "0  Lightning Bolt  Ravnica: Clue Edition  uncommon   \n",
       "\n",
       "                                    Oracle Text  \\\n",
       "0  Lightning Bolt deals 3 damage to any target.   \n",
       "\n",
       "                                           Image URL Price USD  Price EUR  \n",
       "0  https://cards.scryfall.io/normal/front/7/7/77c...      0.86       0.75  "
      ]
     },
     "metadata": {},
     "output_type": "display_data"
    }
   ],
   "source": [
    "import requests\n",
    "import pandas as pd\n",
    "import sys\n",
    "\n",
    "\n",
    "def fetch_card_data(card_name: str) -> dict:\n",
    "    url = f\"https://api.scryfall.com/cards/named?exact={card_name}\"\n",
    "    resp = requests.get(url)\n",
    "    resp.raise_for_status()\n",
    "    data = resp.json()\n",
    "    return {\n",
    "        \"Name\": data.get(\"name\"),\n",
    "        \"Set\": data.get(\"set_name\"),\n",
    "        \"Rarity\": data.get(\"rarity\"),\n",
    "        \"Oracle Text\": data.get(\"oracle_text\"),\n",
    "        \"Image URL\": data.get(\"image_uris\", {}).get(\"normal\"),\n",
    "        \"Price USD\": data.get(\"prices\", {}).get(\"usd\")\n",
    "    }\n",
    "\n",
    "def get_usd_to_eur_rate() -> float:\n",
    "    \"\"\"\n",
    "    Holt den aktuellen USD→EUR-Kurs von frankfurter.app (ohne API-Key).\n",
    "    \"\"\"\n",
    "    url = \"https://api.frankfurter.app/latest\"\n",
    "    params = {\"from\": \"USD\", \"to\": \"EUR\"}\n",
    "    resp = requests.get(url, params=params)\n",
    "    resp.raise_for_status()\n",
    "    data = resp.json()\n",
    "    # data == {\"amount\":1,\"base\":\"USD\",\"date\":\"2025-06-08\",\"rates\":{\"EUR\":0.9064}}\n",
    "    return data[\"rates\"][\"EUR\"]\n",
    "\n",
    "# --- Testaufruf ---\n",
    "sample = \"lightning bolt\"\n",
    "card_info = fetch_card_data(sample)\n",
    "df = pd.DataFrame([card_info])\n",
    "\n",
    "# Wechselkurs holen\n",
    "rate = get_usd_to_eur_rate()\n",
    "print(f\"Aktueller USD→EUR-Kurs: {rate:.4f}\")\n",
    "\n",
    "# Konvertieren und neue Spalte setzen\n",
    "try:\n",
    "    usd = float(card_info[\"Price USD\"])\n",
    "    eur = round(usd * rate, 2)\n",
    "    df[\"Price EUR\"] = eur\n",
    "except (TypeError, ValueError):\n",
    "    df[\"Price EUR\"] = None\n",
    "    print(\"Warnung: Kein gültiger USD-Preis vorhanden, EUR-Spalte leer.\")\n",
    "\n",
    "# Ergebnis anzeigen & als CSV speichern\n",
    "display(df)\n",
    "\n",
    "# filename = sample.replace(\" \", \"_\") + \"_info.csv\"\n",
    "# df.to_csv(filename, index=False)\n",
    "# print(f\"CSV-Datei gespeichert unter: {filename}\")\n"
   ]
  },
  {
   "cell_type": "code",
   "execution_count": 26,
   "id": "178ea189",
   "metadata": {},
   "outputs": [
    {
     "name": "stdout",
     "output_type": "stream",
     "text": [
      "Aktueller USD→EUR-Kurs: 0.8763\n"
     ]
    },
    {
     "data": {
      "application/vnd.microsoft.datawrangler.viewer.v0+json": {
       "columns": [
        {
         "name": "index",
         "rawType": "int64",
         "type": "integer"
        },
        {
         "name": "Name",
         "rawType": "object",
         "type": "string"
        },
        {
         "name": "Set",
         "rawType": "object",
         "type": "string"
        },
        {
         "name": "Rarity",
         "rawType": "object",
         "type": "string"
        },
        {
         "name": "Price USD",
         "rawType": "object",
         "type": "string"
        },
        {
         "name": "Price EUR",
         "rawType": "float64",
         "type": "float"
        }
       ],
       "ref": "5c414e5e-c82d-4ab5-a7c1-b521e061ae7a",
       "rows": [
        [
         "0",
         "Lightning Bolt",
         "Ravnica: Clue Edition",
         "uncommon",
         "0.86",
         "0.75"
        ]
       ],
       "shape": {
        "columns": 5,
        "rows": 1
       }
      },
      "text/html": [
       "<div>\n",
       "<style scoped>\n",
       "    .dataframe tbody tr th:only-of-type {\n",
       "        vertical-align: middle;\n",
       "    }\n",
       "\n",
       "    .dataframe tbody tr th {\n",
       "        vertical-align: top;\n",
       "    }\n",
       "\n",
       "    .dataframe thead th {\n",
       "        text-align: right;\n",
       "    }\n",
       "</style>\n",
       "<table border=\"1\" class=\"dataframe\">\n",
       "  <thead>\n",
       "    <tr style=\"text-align: right;\">\n",
       "      <th></th>\n",
       "      <th>Name</th>\n",
       "      <th>Set</th>\n",
       "      <th>Rarity</th>\n",
       "      <th>Price USD</th>\n",
       "      <th>Price EUR</th>\n",
       "    </tr>\n",
       "  </thead>\n",
       "  <tbody>\n",
       "    <tr>\n",
       "      <th>0</th>\n",
       "      <td>Lightning Bolt</td>\n",
       "      <td>Ravnica: Clue Edition</td>\n",
       "      <td>uncommon</td>\n",
       "      <td>0.86</td>\n",
       "      <td>0.75</td>\n",
       "    </tr>\n",
       "  </tbody>\n",
       "</table>\n",
       "</div>"
      ],
      "text/plain": [
       "             Name                    Set    Rarity Price USD  Price EUR\n",
       "0  Lightning Bolt  Ravnica: Clue Edition  uncommon      0.86       0.75"
      ]
     },
     "metadata": {},
     "output_type": "display_data"
    },
    {
     "name": "stdout",
     "output_type": "stream",
     "text": [
      "✅ CSV gespeichert: Lightning_Bolt_info.csv\n"
     ]
    }
   ],
   "source": [
    "# 2.2 Feinschliff: Error-Handling + Spalten-Format + CSV-Export\n",
    "\n",
    "from IPython.display import display\n",
    "import pandas as pd\n",
    "\n",
    "# Kartennamen hier setzen (später via CLI in .py):\n",
    "sample = \"Lightning Bolt\"\n",
    "\n",
    "try:\n",
    "    # Daten holen\n",
    "    card_info = fetch_card_data(sample)\n",
    "    \n",
    "    # DataFrame bauen\n",
    "    df = pd.DataFrame([card_info])\n",
    "    \n",
    "    # Kurs holen und umrechnen\n",
    "    rate = get_usd_to_eur_rate()\n",
    "    try:\n",
    "        usd = float(card_info[\"Price USD\"])\n",
    "        eur = round(usd * rate, 2)\n",
    "    except (TypeError, ValueError):\n",
    "        eur = None\n",
    "    \n",
    "    # Spalten ergänzen und auswählen\n",
    "    df[\"Price EUR\"] = eur\n",
    "    cols = [\"Name\", \"Set\", \"Rarity\", \"Price USD\", \"Price EUR\"]\n",
    "    df = df[cols]\n",
    "    \n",
    "    # Ausgabe\n",
    "    print(f\"Aktueller USD→EUR-Kurs: {rate:.4f}\")\n",
    "    display(df)\n",
    "\n",
    "    # CSV speichern\n",
    "    filename = sample.replace(\" \", \"_\") + \"_info.csv\"\n",
    "    df.to_csv(filename, index=False)\n",
    "    print(f\"✅ CSV gespeichert: {filename}\")\n",
    "\n",
    "except requests.HTTPError as e:\n",
    "    print(f\"❌ Karte nicht gefunden oder API-Fehler ({e.response.status_code})\")\n",
    "except Exception as e:\n",
    "    print(f\"❌ Unerwarteter Fehler: {e}\")\n"
   ]
  }
 ],
 "metadata": {
  "kernelspec": {
   "display_name": "magic",
   "language": "python",
   "name": "python3"
  },
  "language_info": {
   "codemirror_mode": {
    "name": "ipython",
    "version": 3
   },
   "file_extension": ".py",
   "mimetype": "text/x-python",
   "name": "python",
   "nbconvert_exporter": "python",
   "pygments_lexer": "ipython3",
   "version": "3.13.3"
  }
 },
 "nbformat": 4,
 "nbformat_minor": 5
}
