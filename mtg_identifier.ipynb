{
 "cells": [
  {
   "cell_type": "markdown",
   "id": "90e7750b",
   "metadata": {},
   "source": [
    "MTG Card Identifier  "
   ]
  },
  {
   "cell_type": "code",
   "execution_count": 17,
   "id": "31a15d62",
   "metadata": {},
   "outputs": [],
   "source": [
    "# --- Imports & Constants ---\n",
    "import requests\n",
    "import pandas as pd\n",
    "from IPython.display import display\n",
    "\n",
    "SCRYFALL_API_URL = \"https://api.scryfall.com/cards/named\"\n",
    "FRANKFURTER_API_URL = \"https://api.frankfurter.app/latest\"\n"
   ]
  },
  {
   "cell_type": "code",
   "execution_count": 18,
   "id": "6cf6b2d9",
   "metadata": {},
   "outputs": [],
   "source": [
    "def fetch_card_data(card_name: str) -> dict:\n",
    "    \"\"\"\n",
    "    Fetches card data from Scryfall API.\n",
    "    \n",
    "    Args:\n",
    "        card_name (str): Exact name of the MTG card.\n",
    "        \n",
    "    Returns:\n",
    "        dict: Extracted card information.\n",
    "    \"\"\"\n",
    "    params = {\"exact\": card_name}\n",
    "    response = requests.get(SCRYFALL_API_URL, params=params)\n",
    "    response.raise_for_status()\n",
    "    \n",
    "    data = response.json()\n",
    "    return {\n",
    "        \"Name\": data.get(\"name\"),\n",
    "        \"Set\": data.get(\"set_name\"),\n",
    "        \"Rarity\": data.get(\"rarity\"),\n",
    "        \"Oracle Text\": data.get(\"oracle_text\"),\n",
    "        \"Image URL\": data.get(\"image_uris\", {}).get(\"normal\"),\n",
    "        \"Price USD\": data.get(\"prices\", {}).get(\"usd\")\n",
    "    }\n"
   ]
  },
  {
   "cell_type": "code",
   "execution_count": 19,
   "id": "de505190",
   "metadata": {},
   "outputs": [],
   "source": [
    "def get_usd_to_eur_rate() -> float:\n",
    "    \"\"\"\n",
    "    Fetches the current USD to EUR exchange rate.\n",
    "    \n",
    "    Returns:\n",
    "        float: USD to EUR rate.\n",
    "    \"\"\"\n",
    "    params = {\"from\": \"USD\", \"to\": \"EUR\"}\n",
    "    response = requests.get(FRANKFURTER_API_URL, params=params)\n",
    "    response.raise_for_status()\n",
    "    \n",
    "    data = response.json()\n",
    "    return data[\"rates\"][\"EUR\"]\n"
   ]
  },
  {
   "cell_type": "code",
   "execution_count": 20,
   "id": "e40552b3",
   "metadata": {},
   "outputs": [],
   "source": [
    "def convert_usd_to_eur(usd_price, rate) -> float | None:\n",
    "    \"\"\"\n",
    "    Converts USD price to EUR using given rate.\n",
    "    \n",
    "    Args:\n",
    "        usd_price (str or float): USD price.\n",
    "        rate (float): USD to EUR exchange rate.\n",
    "        \n",
    "    Returns:\n",
    "        float or None: Converted EUR price or None if invalid.\n",
    "    \"\"\"\n",
    "    try:\n",
    "        usd_value = float(usd_price)\n",
    "        return round(usd_value * rate, 2)\n",
    "    except (TypeError, ValueError):\n",
    "        print(\"⚠️  Warnung: Ungültiger USD-Preis, EUR-Spalte bleibt leer.\")\n",
    "        return None\n"
   ]
  },
  {
   "cell_type": "code",
   "execution_count": 21,
   "id": "705f9482",
   "metadata": {},
   "outputs": [],
   "source": [
    "def save_dataframe_as_csv(df: pd.DataFrame, filename: str) -> None:\n",
    "    \"\"\"\n",
    "    Saves given DataFrame as CSV.\n",
    "    \n",
    "    Args:\n",
    "        df (pd.DataFrame): Data to save.\n",
    "        filename (str): Destination filename.\n",
    "    \"\"\"\n",
    "    df.to_csv(filename, index=False)\n",
    "    print(f\"✅ CSV gespeichert: {filename}\")\n"
   ]
  },
  {
   "cell_type": "code",
   "execution_count": 22,
   "id": "8d5ffde4",
   "metadata": {},
   "outputs": [],
   "source": [
    "def build_card_dataframe(card_info: dict, eur_price: float | None) -> pd.DataFrame:\n",
    "    \"\"\"\n",
    "    Builds a pandas DataFrame from card info and EUR price.\n",
    "    \n",
    "    Args:\n",
    "        card_info (dict): Card data.\n",
    "        eur_price (float | None): Converted EUR price.\n",
    "        \n",
    "    Returns:\n",
    "        pd.DataFrame: Formatted DataFrame.\n",
    "    \"\"\"\n",
    "    df = pd.DataFrame([card_info])\n",
    "    df[\"Price EUR\"] = eur_price\n",
    "    \n",
    "    # Define column order\n",
    "    columns_order = [\"Name\", \"Set\", \"Rarity\", \"Oracle Text\", \"Image URL\", \"Price USD\", \"Price EUR\"]\n",
    "    df = df[[col for col in columns_order if col in df.columns]]\n",
    "    \n",
    "    return df\n"
   ]
  },
  {
   "cell_type": "code",
   "execution_count": 28,
   "id": "8137deea",
   "metadata": {},
   "outputs": [
    {
     "name": "stdout",
     "output_type": "stream",
     "text": [
      "🔍 Suche 6 Karten...\n",
      "💱 Aktueller USD→EUR-Kurs: 0.8763\n",
      "\n",
      "→ Hole Karte: 'traveling chocobo'...\n",
      "✅ 'Traveling Chocobo' gefunden.\n",
      "→ Hole Karte: 'Lightning Bolt'...\n",
      "✅ 'Lightning Bolt' gefunden.\n",
      "→ Hole Karte: 'Counterspell'...\n",
      "✅ 'Counterspell' gefunden.\n",
      "→ Hole Karte: 'Black Lotus'...\n",
      "✅ 'Black Lotus' gefunden.\n",
      "⚠️  Warnung: Ungültiger USD-Preis, EUR-Spalte bleibt leer.\n",
      "→ Hole Karte: 'Island'...\n",
      "✅ 'Island' gefunden.\n",
      "→ Hole Karte: 'Serra Angel'...\n",
      "✅ 'Serra Angel' gefunden.\n"
     ]
    },
    {
     "name": "stderr",
     "output_type": "stream",
     "text": [
      "C:\\Users\\hamud\\AppData\\Local\\Temp\\ipykernel_17180\\723462414.py:41: FutureWarning: The behavior of DataFrame concatenation with empty or all-NA entries is deprecated. In a future version, this will no longer exclude empty or all-NA columns when determining the result dtypes. To retain the old behavior, exclude the relevant entries before the concat operation.\n",
      "  df_all_cards = pd.concat(all_card_infos, ignore_index=True)\n"
     ]
    },
    {
     "data": {
      "application/vnd.microsoft.datawrangler.viewer.v0+json": {
       "columns": [
        {
         "name": "index",
         "rawType": "int64",
         "type": "integer"
        },
        {
         "name": "Name",
         "rawType": "object",
         "type": "string"
        },
        {
         "name": "Set",
         "rawType": "object",
         "type": "string"
        },
        {
         "name": "Rarity",
         "rawType": "object",
         "type": "string"
        },
        {
         "name": "Oracle Text",
         "rawType": "object",
         "type": "string"
        },
        {
         "name": "Image URL",
         "rawType": "object",
         "type": "string"
        },
        {
         "name": "Price USD",
         "rawType": "object",
         "type": "unknown"
        },
        {
         "name": "Price EUR",
         "rawType": "float64",
         "type": "float"
        }
       ],
       "ref": "b64ae82d-d3e8-4f45-8781-781fb4878f64",
       "rows": [
        [
         "0",
         "Traveling Chocobo",
         "Final Fantasy",
         "mythic",
         "You may look at the top card of your library any time.\nYou may play lands and cast Bird spells from the top of your library.\nIf a land or Bird you control entering the battlefield causes a triggered ability of a permanent you control to trigger, that ability triggers an additional time.",
         "https://cards.scryfall.io/normal/front/2/4/2462df62-fc35-47ed-9571-40452074dc6d.jpg?1748706549",
         "21.51",
         "18.85"
        ],
        [
         "1",
         "Lightning Bolt",
         "Ravnica: Clue Edition",
         "uncommon",
         "Lightning Bolt deals 3 damage to any target.",
         "https://cards.scryfall.io/normal/front/7/7/77c6fa74-5543-42ac-9ead-0e890b188e99.jpg?1706239968",
         "0.86",
         "0.75"
        ],
        [
         "2",
         "Counterspell",
         "Duskmourn: House of Horror Commander",
         "uncommon",
         "Counter target spell.",
         "https://cards.scryfall.io/normal/front/4/f/4f616706-ec97-4923-bb1e-11a69fbaa1f8.jpg?1726837907",
         "1.63",
         "1.43"
        ],
        [
         "3",
         "Black Lotus",
         "Vintage Masters",
         "bonus",
         "{T}, Sacrifice this artifact: Add three mana of any one color.",
         "https://cards.scryfall.io/normal/front/b/d/bd8fa327-dd41-4737-8f19-2cf5eb1f7cdd.jpg?1614638838",
         null,
         null
        ],
        [
         "4",
         "Island",
         "Tarkir: Dragonstorm",
         "common",
         "({T}: Add {U}.)",
         "https://cards.scryfall.io/normal/front/1/f/1ff6acc9-581c-468f-894d-41f725da7f33.jpg?1743205101",
         "0.04",
         "0.04"
        ],
        [
         "5",
         "Serra Angel",
         "Foundations",
         "uncommon",
         "Flying\nVigilance (Attacking doesn't cause this creature to tap.)",
         "https://cards.scryfall.io/normal/front/3/c/3cee9303-9d65-45a2-93d4-ef4aba59141b.jpg?1730489152",
         "0.08",
         "0.07"
        ]
       ],
       "shape": {
        "columns": 7,
        "rows": 6
       }
      },
      "text/html": [
       "<div>\n",
       "<style scoped>\n",
       "    .dataframe tbody tr th:only-of-type {\n",
       "        vertical-align: middle;\n",
       "    }\n",
       "\n",
       "    .dataframe tbody tr th {\n",
       "        vertical-align: top;\n",
       "    }\n",
       "\n",
       "    .dataframe thead th {\n",
       "        text-align: right;\n",
       "    }\n",
       "</style>\n",
       "<table border=\"1\" class=\"dataframe\">\n",
       "  <thead>\n",
       "    <tr style=\"text-align: right;\">\n",
       "      <th></th>\n",
       "      <th>Name</th>\n",
       "      <th>Set</th>\n",
       "      <th>Rarity</th>\n",
       "      <th>Oracle Text</th>\n",
       "      <th>Image URL</th>\n",
       "      <th>Price USD</th>\n",
       "      <th>Price EUR</th>\n",
       "    </tr>\n",
       "  </thead>\n",
       "  <tbody>\n",
       "    <tr>\n",
       "      <th>0</th>\n",
       "      <td>Traveling Chocobo</td>\n",
       "      <td>Final Fantasy</td>\n",
       "      <td>mythic</td>\n",
       "      <td>You may look at the top card of your library a...</td>\n",
       "      <td>https://cards.scryfall.io/normal/front/2/4/246...</td>\n",
       "      <td>21.51</td>\n",
       "      <td>18.85</td>\n",
       "    </tr>\n",
       "    <tr>\n",
       "      <th>1</th>\n",
       "      <td>Lightning Bolt</td>\n",
       "      <td>Ravnica: Clue Edition</td>\n",
       "      <td>uncommon</td>\n",
       "      <td>Lightning Bolt deals 3 damage to any target.</td>\n",
       "      <td>https://cards.scryfall.io/normal/front/7/7/77c...</td>\n",
       "      <td>0.86</td>\n",
       "      <td>0.75</td>\n",
       "    </tr>\n",
       "    <tr>\n",
       "      <th>2</th>\n",
       "      <td>Counterspell</td>\n",
       "      <td>Duskmourn: House of Horror Commander</td>\n",
       "      <td>uncommon</td>\n",
       "      <td>Counter target spell.</td>\n",
       "      <td>https://cards.scryfall.io/normal/front/4/f/4f6...</td>\n",
       "      <td>1.63</td>\n",
       "      <td>1.43</td>\n",
       "    </tr>\n",
       "    <tr>\n",
       "      <th>3</th>\n",
       "      <td>Black Lotus</td>\n",
       "      <td>Vintage Masters</td>\n",
       "      <td>bonus</td>\n",
       "      <td>{T}, Sacrifice this artifact: Add three mana o...</td>\n",
       "      <td>https://cards.scryfall.io/normal/front/b/d/bd8...</td>\n",
       "      <td>None</td>\n",
       "      <td>NaN</td>\n",
       "    </tr>\n",
       "    <tr>\n",
       "      <th>4</th>\n",
       "      <td>Island</td>\n",
       "      <td>Tarkir: Dragonstorm</td>\n",
       "      <td>common</td>\n",
       "      <td>({T}: Add {U}.)</td>\n",
       "      <td>https://cards.scryfall.io/normal/front/1/f/1ff...</td>\n",
       "      <td>0.04</td>\n",
       "      <td>0.04</td>\n",
       "    </tr>\n",
       "    <tr>\n",
       "      <th>5</th>\n",
       "      <td>Serra Angel</td>\n",
       "      <td>Foundations</td>\n",
       "      <td>uncommon</td>\n",
       "      <td>Flying\\nVigilance (Attacking doesn't cause thi...</td>\n",
       "      <td>https://cards.scryfall.io/normal/front/3/c/3ce...</td>\n",
       "      <td>0.08</td>\n",
       "      <td>0.07</td>\n",
       "    </tr>\n",
       "  </tbody>\n",
       "</table>\n",
       "</div>"
      ],
      "text/plain": [
       "                Name                                   Set    Rarity  \\\n",
       "0  Traveling Chocobo                         Final Fantasy    mythic   \n",
       "1     Lightning Bolt                 Ravnica: Clue Edition  uncommon   \n",
       "2       Counterspell  Duskmourn: House of Horror Commander  uncommon   \n",
       "3        Black Lotus                       Vintage Masters     bonus   \n",
       "4             Island                   Tarkir: Dragonstorm    common   \n",
       "5        Serra Angel                           Foundations  uncommon   \n",
       "\n",
       "                                         Oracle Text  \\\n",
       "0  You may look at the top card of your library a...   \n",
       "1       Lightning Bolt deals 3 damage to any target.   \n",
       "2                              Counter target spell.   \n",
       "3  {T}, Sacrifice this artifact: Add three mana o...   \n",
       "4                                    ({T}: Add {U}.)   \n",
       "5  Flying\\nVigilance (Attacking doesn't cause thi...   \n",
       "\n",
       "                                           Image URL Price USD  Price EUR  \n",
       "0  https://cards.scryfall.io/normal/front/2/4/246...     21.51      18.85  \n",
       "1  https://cards.scryfall.io/normal/front/7/7/77c...      0.86       0.75  \n",
       "2  https://cards.scryfall.io/normal/front/4/f/4f6...      1.63       1.43  \n",
       "3  https://cards.scryfall.io/normal/front/b/d/bd8...      None        NaN  \n",
       "4  https://cards.scryfall.io/normal/front/1/f/1ff...      0.04       0.04  \n",
       "5  https://cards.scryfall.io/normal/front/3/c/3ce...      0.08       0.07  "
      ]
     },
     "metadata": {},
     "output_type": "display_data"
    },
    {
     "name": "stdout",
     "output_type": "stream",
     "text": [
      "✅ CSV gespeichert: multi_card_info.csv\n"
     ]
    }
   ],
   "source": [
    "# --- Multi-Card Pipeline Execution ---\n",
    "\n",
    "card_names = [\n",
    "    \"traveling chocobo\",\n",
    "    \"Lightning Bolt\",\n",
    "    \"Counterspell\",\n",
    "    \"Black Lotus\",\n",
    "    \"Island\",\n",
    "    \"Serra Angel\"\n",
    "]\n",
    "\n",
    "all_card_infos = []\n",
    "\n",
    "try:\n",
    "    print(f\"🔍 Suche {len(card_names)} Karten...\")\n",
    "    \n",
    "    # Fetch exchange rate once\n",
    "    rate = get_usd_to_eur_rate()\n",
    "    print(f\"💱 Aktueller USD→EUR-Kurs: {rate:.4f}\\n\")\n",
    "    \n",
    "    # Process each card\n",
    "    for card_name in card_names:\n",
    "        try:\n",
    "            print(f\"→ Hole Karte: '{card_name}'...\")\n",
    "            card_info = fetch_card_data(card_name)\n",
    "            print(f\"✅ '{card_info['Name']}' gefunden.\")\n",
    "            \n",
    "            eur_price = convert_usd_to_eur(card_info[\"Price USD\"], rate)\n",
    "            df_card = build_card_dataframe(card_info, eur_price)\n",
    "            \n",
    "            all_card_infos.append(df_card)\n",
    "            \n",
    "        except requests.HTTPError as e:\n",
    "            status_code = e.response.status_code if e.response else \"N/A\"\n",
    "            print(f\"❌ HTTP-Fehler für Karte '{card_name}' ({status_code}): {e}\")\n",
    "        except Exception as e:\n",
    "            print(f\"❌ Unerwarteter Fehler für Karte '{card_name}': {e}\")\n",
    "    \n",
    "    # Combine all DataFrames\n",
    "    if all_card_infos:\n",
    "        df_all_cards = pd.concat(all_card_infos, ignore_index=True)\n",
    "        \n",
    "        # Display\n",
    "        display(df_all_cards)\n",
    "        \n",
    "        # Save CSV\n",
    "        filename = \"multi_card_info.csv\"\n",
    "        save_dataframe_as_csv(df_all_cards, filename)\n",
    "    else:\n",
    "        print(\"⚠️  Keine Karten erfolgreich verarbeitet.\")\n",
    "    \n",
    "except Exception as e:\n",
    "    print(f\"❌ Unerwarteter Fehler in der Pipeline: {e}\")\n"
   ]
  }
 ],
 "metadata": {
  "kernelspec": {
   "display_name": "magic",
   "language": "python",
   "name": "python3"
  },
  "language_info": {
   "codemirror_mode": {
    "name": "ipython",
    "version": 3
   },
   "file_extension": ".py",
   "mimetype": "text/x-python",
   "name": "python",
   "nbconvert_exporter": "python",
   "pygments_lexer": "ipython3",
   "version": "3.13.3"
  }
 },
 "nbformat": 4,
 "nbformat_minor": 5
}
