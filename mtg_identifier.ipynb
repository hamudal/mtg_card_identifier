{
 "cells": [
  {
   "cell_type": "markdown",
   "id": "90e7750b",
   "metadata": {},
   "source": [
    "MTG Card Identifier  "
   ]
  },
  {
   "cell_type": "code",
   "execution_count": 2,
   "id": "31a15d62",
   "metadata": {},
   "outputs": [],
   "source": [
    "# --- Imports & Constants ---\n",
    "import requests\n",
    "import pandas as pd\n",
    "from IPython.display import display\n",
    "\n",
    "SCRYFALL_API_URL = \"https://api.scryfall.com/cards/named\"\n",
    "FRANKFURTER_API_URL = \"https://api.frankfurter.app/latest\"\n"
   ]
  },
  {
   "cell_type": "code",
   "execution_count": 3,
   "id": "6cf6b2d9",
   "metadata": {},
   "outputs": [],
   "source": [
    "def fetch_card_data(card_name: str) -> dict:\n",
    "    \"\"\"\n",
    "    Fetches card data from Scryfall API.\n",
    "    \n",
    "    Args:\n",
    "        card_name (str): Exact name of the MTG card.\n",
    "        \n",
    "    Returns:\n",
    "        dict: Extracted card information.\n",
    "    \"\"\"\n",
    "    params = {\"exact\": card_name}\n",
    "    response = requests.get(SCRYFALL_API_URL, params=params)\n",
    "    response.raise_for_status()\n",
    "    \n",
    "    data = response.json()\n",
    "    return {\n",
    "        \"Name\": data.get(\"name\"),\n",
    "        \"Set\": data.get(\"set_name\"),\n",
    "        \"Rarity\": data.get(\"rarity\"),\n",
    "        \"Oracle Text\": data.get(\"oracle_text\"),\n",
    "        \"Image URL\": data.get(\"image_uris\", {}).get(\"normal\"),\n",
    "        \"Price USD\": data.get(\"prices\", {}).get(\"usd\")\n",
    "    }\n"
   ]
  },
  {
   "cell_type": "code",
   "execution_count": 4,
   "id": "de505190",
   "metadata": {},
   "outputs": [],
   "source": [
    "def get_usd_to_eur_rate() -> float:\n",
    "    \"\"\"\n",
    "    Fetches the current USD to EUR exchange rate.\n",
    "    \n",
    "    Returns:\n",
    "        float: USD to EUR rate.\n",
    "    \"\"\"\n",
    "    params = {\"from\": \"USD\", \"to\": \"EUR\"}\n",
    "    response = requests.get(FRANKFURTER_API_URL, params=params)\n",
    "    response.raise_for_status()\n",
    "    \n",
    "    data = response.json()\n",
    "    return data[\"rates\"][\"EUR\"]\n"
   ]
  },
  {
   "cell_type": "code",
   "execution_count": 5,
   "id": "e40552b3",
   "metadata": {},
   "outputs": [],
   "source": [
    "def convert_usd_to_eur(usd_price, rate) -> float | None:\n",
    "    \"\"\"\n",
    "    Converts USD price to EUR using given rate.\n",
    "    \n",
    "    Args:\n",
    "        usd_price (str or float): USD price.\n",
    "        rate (float): USD to EUR exchange rate.\n",
    "        \n",
    "    Returns:\n",
    "        float or None: Converted EUR price or None if invalid.\n",
    "    \"\"\"\n",
    "    try:\n",
    "        usd_value = float(usd_price)\n",
    "        return round(usd_value * rate, 2)\n",
    "    except (TypeError, ValueError):\n",
    "        print(\"⚠️  Warnung: Ungültiger USD-Preis, EUR-Spalte bleibt leer.\")\n",
    "        return None\n"
   ]
  },
  {
   "cell_type": "code",
   "execution_count": 6,
   "id": "705f9482",
   "metadata": {},
   "outputs": [],
   "source": [
    "def save_dataframe_as_csv(df: pd.DataFrame, filename: str) -> None:\n",
    "    \"\"\"\n",
    "    Saves given DataFrame as CSV.\n",
    "    \n",
    "    Args:\n",
    "        df (pd.DataFrame): Data to save.\n",
    "        filename (str): Destination filename.\n",
    "    \"\"\"\n",
    "    df.to_csv(filename, index=False)\n",
    "    print(f\"✅ CSV gespeichert: {filename}\")\n"
   ]
  },
  {
   "cell_type": "code",
   "execution_count": 7,
   "id": "8d5ffde4",
   "metadata": {},
   "outputs": [],
   "source": [
    "def build_card_dataframe(card_info: dict, eur_price: float | None) -> pd.DataFrame:\n",
    "    \"\"\"\n",
    "    Builds a pandas DataFrame from card info and EUR price.\n",
    "    \n",
    "    Args:\n",
    "        card_info (dict): Card data.\n",
    "        eur_price (float | None): Converted EUR price.\n",
    "        \n",
    "    Returns:\n",
    "        pd.DataFrame: Formatted DataFrame.\n",
    "    \"\"\"\n",
    "    df = pd.DataFrame([card_info])\n",
    "    df[\"Price EUR\"] = eur_price\n",
    "    \n",
    "    # Define column order\n",
    "    columns_order = [\"Name\", \"Set\", \"Rarity\", \"Price USD\", \"Price EUR\", \"Oracle Text\", \"Image URL\"]\n",
    "    df = df[[col for col in columns_order if col in df.columns]]\n",
    "    \n",
    "    return df\n"
   ]
  },
  {
   "cell_type": "code",
   "execution_count": 8,
   "id": "8137deea",
   "metadata": {},
   "outputs": [
    {
     "name": "stdout",
     "output_type": "stream",
     "text": [
      "\n",
      "🔍 Suche Karte: 'Lightning Bolt'...\n",
      "✅ Kartendaten erfolgreich abgerufen.\n",
      "💱 Aktueller USD→EUR-Kurs: 0.8763\n"
     ]
    },
    {
     "data": {
      "application/vnd.microsoft.datawrangler.viewer.v0+json": {
       "columns": [
        {
         "name": "index",
         "rawType": "int64",
         "type": "integer"
        },
        {
         "name": "Name",
         "rawType": "object",
         "type": "string"
        },
        {
         "name": "Set",
         "rawType": "object",
         "type": "string"
        },
        {
         "name": "Rarity",
         "rawType": "object",
         "type": "string"
        },
        {
         "name": "Price USD",
         "rawType": "object",
         "type": "string"
        },
        {
         "name": "Price EUR",
         "rawType": "float64",
         "type": "float"
        },
        {
         "name": "Oracle Text",
         "rawType": "object",
         "type": "string"
        },
        {
         "name": "Image URL",
         "rawType": "object",
         "type": "string"
        }
       ],
       "ref": "cdb86608-0ed8-4d4e-bf87-593f2240f020",
       "rows": [
        [
         "0",
         "Lightning Bolt",
         "Ravnica: Clue Edition",
         "uncommon",
         "0.86",
         "0.75",
         "Lightning Bolt deals 3 damage to any target.",
         "https://cards.scryfall.io/normal/front/7/7/77c6fa74-5543-42ac-9ead-0e890b188e99.jpg?1706239968"
        ]
       ],
       "shape": {
        "columns": 7,
        "rows": 1
       }
      },
      "text/html": [
       "<div>\n",
       "<style scoped>\n",
       "    .dataframe tbody tr th:only-of-type {\n",
       "        vertical-align: middle;\n",
       "    }\n",
       "\n",
       "    .dataframe tbody tr th {\n",
       "        vertical-align: top;\n",
       "    }\n",
       "\n",
       "    .dataframe thead th {\n",
       "        text-align: right;\n",
       "    }\n",
       "</style>\n",
       "<table border=\"1\" class=\"dataframe\">\n",
       "  <thead>\n",
       "    <tr style=\"text-align: right;\">\n",
       "      <th></th>\n",
       "      <th>Name</th>\n",
       "      <th>Set</th>\n",
       "      <th>Rarity</th>\n",
       "      <th>Price USD</th>\n",
       "      <th>Price EUR</th>\n",
       "      <th>Oracle Text</th>\n",
       "      <th>Image URL</th>\n",
       "    </tr>\n",
       "  </thead>\n",
       "  <tbody>\n",
       "    <tr>\n",
       "      <th>0</th>\n",
       "      <td>Lightning Bolt</td>\n",
       "      <td>Ravnica: Clue Edition</td>\n",
       "      <td>uncommon</td>\n",
       "      <td>0.86</td>\n",
       "      <td>0.75</td>\n",
       "      <td>Lightning Bolt deals 3 damage to any target.</td>\n",
       "      <td>https://cards.scryfall.io/normal/front/7/7/77c...</td>\n",
       "    </tr>\n",
       "  </tbody>\n",
       "</table>\n",
       "</div>"
      ],
      "text/plain": [
       "             Name                    Set    Rarity Price USD  Price EUR  \\\n",
       "0  Lightning Bolt  Ravnica: Clue Edition  uncommon      0.86       0.75   \n",
       "\n",
       "                                    Oracle Text  \\\n",
       "0  Lightning Bolt deals 3 damage to any target.   \n",
       "\n",
       "                                           Image URL  \n",
       "0  https://cards.scryfall.io/normal/front/7/7/77c...  "
      ]
     },
     "metadata": {},
     "output_type": "display_data"
    },
    {
     "name": "stdout",
     "output_type": "stream",
     "text": [
      "✅ CSV gespeichert: Lightning_Bolt_info.csv\n"
     ]
    }
   ],
   "source": [
    "# --- Pipeline Execution ---\n",
    "\n",
    "sample_card_name = \"Lightning Bolt\"\n",
    "\n",
    "try:\n",
    "    print(f\"\\n🔍 Suche Karte: '{sample_card_name}'...\")\n",
    "    \n",
    "    # Fetch card data\n",
    "    card_info = fetch_card_data(sample_card_name)\n",
    "    print(\"✅ Kartendaten erfolgreich abgerufen.\")\n",
    "    \n",
    "    # Get exchange rate\n",
    "    rate = get_usd_to_eur_rate()\n",
    "    print(f\"💱 Aktueller USD→EUR-Kurs: {rate:.4f}\")\n",
    "    \n",
    "    # Convert price\n",
    "    eur_price = convert_usd_to_eur(card_info[\"Price USD\"], rate)\n",
    "    \n",
    "    # Build DataFrame\n",
    "    df = build_card_dataframe(card_info, eur_price)\n",
    "    \n",
    "    # Display\n",
    "    display(df)\n",
    "    \n",
    "    # Save CSV\n",
    "    filename = sample_card_name.replace(\" \", \"_\") + \"_info.csv\"\n",
    "    save_dataframe_as_csv(df, filename)\n",
    "    \n",
    "except requests.HTTPError as e:\n",
    "    status_code = e.response.status_code if e.response else \"N/A\"\n",
    "    print(f\"❌ HTTP-Fehler beim Abrufen der Karte ({status_code}): {e}\")\n",
    "except Exception as e:\n",
    "    print(f\"❌ Unerwarteter Fehler: {e}\")\n"
   ]
  }
 ],
 "metadata": {
  "kernelspec": {
   "display_name": "magic",
   "language": "python",
   "name": "python3"
  },
  "language_info": {
   "codemirror_mode": {
    "name": "ipython",
    "version": 3
   },
   "file_extension": ".py",
   "mimetype": "text/x-python",
   "name": "python",
   "nbconvert_exporter": "python",
   "pygments_lexer": "ipython3",
   "version": "3.13.3"
  }
 },
 "nbformat": 4,
 "nbformat_minor": 5
}
